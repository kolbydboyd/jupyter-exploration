{
 "cells": [
  {
   "cell_type": "markdown",
   "id": "2d9d06e6-0ecd-4b4d-8248-b1a3f92ef644",
   "metadata": {},
   "source": [
    "# This is a markdown cell.\n",
    "## Many of the same functions in HTML language can be used here.\n",
    "> - [x] Example completed task\n",
    "> - [ ] Example uncompleted task\n",
    "### Double click to continue editing after running the cell. "
   ]
  },
  {
   "cell_type": "code",
   "execution_count": 1,
   "id": "db73c955-b855-4df0-ab92-9ea368dfe7bf",
   "metadata": {},
   "outputs": [
    {
     "name": "stdout",
     "output_type": "stream",
     "text": [
      "Hello World!\n"
     ]
    }
   ],
   "source": [
    "print(\"Hello World!\")\n",
    "# This is a code cell. It stores code to be run."
   ]
  }
 ],
 "metadata": {
  "kernelspec": {
   "display_name": "Python 3 (ipykernel)",
   "language": "python",
   "name": "python3"
  },
  "language_info": {
   "codemirror_mode": {
    "name": "ipython",
    "version": 3
   },
   "file_extension": ".py",
   "mimetype": "text/x-python",
   "name": "python",
   "nbconvert_exporter": "python",
   "pygments_lexer": "ipython3",
   "version": "3.11.5"
  }
 },
 "nbformat": 4,
 "nbformat_minor": 5
}
